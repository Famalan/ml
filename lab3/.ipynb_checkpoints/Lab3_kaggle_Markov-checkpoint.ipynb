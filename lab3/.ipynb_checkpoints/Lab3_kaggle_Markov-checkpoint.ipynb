{
 "cells": [
  {
   "cell_type": "code",
   "execution_count": null,
   "metadata": {
    "vscode": {
     "languageId": "plaintext"
    }
   },
   "outputs": [],
   "source": [
    "\n",
    "# # Машинное обучение. Лабораторная работа - прогнозирование продаж\n",
    "# Данное решение подготовлено для сдачи лабораторной работы по машинному обучению в рамках курса МАИ.\n",
    "\n",
    "import pandas as pd\n",
    "import numpy as np\n",
    "from sklearn.model_selection import train_test_split\n",
    "from sklearn.preprocessing import StandardScaler\n",
    "from sklearn.ensemble import RandomForestRegressor\n",
    "from sklearn.metrics import mean_squared_error, mean_absolute_percentage_error\n",
    "\n",
    "# Загрузка данных\n",
    "train_data = pd.read_csv(\"/kaggle/input/mai-ml-contest-time-series/train.csv\")\n",
    "test_data = pd.read_csv(\"/kaggle/input/mai-ml-contest-time-series/test.csv\")\n",
    "\n",
    "# Преобразуем дату в формат datetime и создаем дополнительные признаки\n",
    "train_data[\"Date\"] = pd.to_datetime(train_data[\"Date\"])\n",
    "test_data[\"Date\"] = pd.to_datetime(test_data[\"Date\"])\n",
    "\n",
    "train_data[\"Month\"] = train_data[\"Date\"].dt.month\n",
    "train_data[\"DayOfWeek\"] = train_data[\"Date\"].dt.weekday\n",
    "test_data[\"Month\"] = test_data[\"Date\"].dt.month\n",
    "test_data[\"DayOfWeek\"] = test_data[\"Date\"].dt.weekday\n",
    "\n",
    "# Удаляем столбец с датой\n",
    "train_data = train_data.drop(columns=[\"Date\"])\n",
    "test_data = test_data.drop(columns=[\"Date\"])\n",
    "\n",
    "# Удаление выбросов по целевой переменной\n",
    "upper_limit = train_data[\"Weekly_Sales\"].quantile(0.99)\n",
    "train_data = train_data[train_data[\"Weekly_Sales\"] <= upper_limit]\n",
    "\n",
    "# Нормализация числовых признаков\n",
    "scaler = StandardScaler()\n",
    "features_to_scale = [\"Temperature\", \"Fuel_Price\", \"CPI\", \"Unemployment\", \"Month\", \"DayOfWeek\"]\n",
    "train_data[features_to_scale] = scaler.fit_transform(train_data[features_to_scale])\n",
    "test_data[features_to_scale] = scaler.transform(test_data[features_to_scale])\n",
    "\n",
    "# Разделение данных на признаки и целевую переменную\n",
    "X = train_data.drop(columns=[\"Weekly_Sales\"])\n",
    "y = train_data[\"Weekly_Sales\"]\n",
    "\n",
    "# Обучение модели Random Forest\n",
    "model = RandomForestRegressor(random_state=42, n_estimators=100)\n",
    "model.fit(X, y)\n",
    "\n",
    "# Предсказания на тестовых данных\n",
    "y_predict = model.predict(test_data)\n",
    "\n",
    "# Формирование файла submission.csv\n",
    "submission = pd.DataFrame({\n",
    "    \"source_attractiveness\": y_predict\n",
    "})\n",
    "submission.to_csv(\"submission.csv\", index_label=\"ID\")\n",
    "\n",
    "print(\"Файл submission.csv успешно сохранен.\")\n"
   ]
  }
 ],
 "metadata": {
  "language_info": {
   "name": "python"
  }
 },
 "nbformat": 4,
 "nbformat_minor": 2
}
