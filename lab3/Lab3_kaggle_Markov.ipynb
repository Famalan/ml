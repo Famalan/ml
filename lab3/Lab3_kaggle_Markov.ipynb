{
 "cells": [
  {
   "cell_type": "code",
   "execution_count": 3,
   "metadata": {
    "vscode": {
     "languageId": "plaintext"
    }
   },
   "outputs": [
    {
     "name": "stdout",
     "output_type": "stream",
     "text": [
      "Файл submission.csv успешно сохранен.\n"
     ]
    }
   ],
   "source": [
    "\n",
    "# # Машинное обучение. Лабораторная работа - прогнозирование продаж\n",
    "\n",
    "import pandas as pd\n",
    "import numpy as np\n",
    "from sklearn.model_selection import train_test_split\n",
    "from sklearn.preprocessing import StandardScaler\n",
    "from sklearn.ensemble import RandomForestRegressor\n",
    "from sklearn.metrics import mean_squared_error, mean_absolute_percentage_error\n",
    "\n",
    "# Загрузка данных\n",
    "train_data = pd.read_csv(\"train.csv\")\n",
    "test_data = pd.read_csv(\"test.csv\")\n",
    "\n",
    "# Преобразуем дату в формат datetime и создаем дополнительные признаки\n",
    "train_data[\"Date\"] = pd.to_datetime(train_data[\"Date\"])\n",
    "test_data[\"Date\"] = pd.to_datetime(test_data[\"Date\"])\n",
    "\n",
    "train_data[\"Month\"] = train_data[\"Date\"].dt.month\n",
    "train_data[\"DayOfWeek\"] = train_data[\"Date\"].dt.weekday\n",
    "test_data[\"Month\"] = test_data[\"Date\"].dt.month\n",
    "test_data[\"DayOfWeek\"] = test_data[\"Date\"].dt.weekday\n",
    "\n",
    "# Удаляем столбец с датой\n",
    "train_data = train_data.drop(columns=[\"Date\"])\n",
    "test_data = test_data.drop(columns=[\"Date\"])\n",
    "\n",
    "# Удаление выбросов по целевой переменной\n",
    "upper_limit = train_data[\"Weekly_Sales\"].quantile(0.99)\n",
    "train_data = train_data[train_data[\"Weekly_Sales\"] <= upper_limit]\n",
    "\n",
    "# Нормализация числовых признаков\n",
    "scaler = StandardScaler()\n",
    "features_to_scale = [\"Temperature\", \"Fuel_Price\", \"CPI\", \"Unemployment\", \"Month\", \"DayOfWeek\"]\n",
    "train_data[features_to_scale] = scaler.fit_transform(train_data[features_to_scale])\n",
    "test_data[features_to_scale] = scaler.transform(test_data[features_to_scale])\n",
    "\n",
    "# Разделение данных на признаки и целевую переменную\n",
    "X = train_data.drop(columns=[\"Weekly_Sales\"])\n",
    "y = train_data[\"Weekly_Sales\"]\n",
    "\n",
    "# Обучение модели Random Forest\n",
    "model = RandomForestRegressor(random_state=42, n_estimators=100)\n",
    "model.fit(X, y)\n",
    "\n",
    "# Предсказания на тестовых данных\n",
    "y_predict = model.predict(test_data)\n",
    "\n",
    "# Формирование файла submission.csv\n",
    "submission = pd.DataFrame({\n",
    "    \"source_attractiveness\": y_predict\n",
    "})\n",
    "submission.to_csv(\"submission.csv\", index_label=\"ID\")\n",
    "\n",
    "print(\"Файл submission.csv успешно сохранен.\")\n"
   ]
  }
 ],
 "metadata": {
  "kernelspec": {
   "display_name": "Python 3 (ipykernel)",
   "language": "python",
   "name": "python3"
  },
  "language_info": {
   "codemirror_mode": {
    "name": "ipython",
    "version": 3
   },
   "file_extension": ".py",
   "mimetype": "text/x-python",
   "name": "python",
   "nbconvert_exporter": "python",
   "pygments_lexer": "ipython3",
   "version": "3.12.7"
  }
 },
 "nbformat": 4,
 "nbformat_minor": 4
}
